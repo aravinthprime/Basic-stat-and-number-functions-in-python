{
  "nbformat": 4,
  "nbformat_minor": 0,
  "metadata": {
    "colab": {
      "name": "stat and number functions.ipynb",
      "provenance": [],
      "collapsed_sections": []
    },
    "kernelspec": {
      "name": "python3",
      "display_name": "Python 3"
    },
    "language_info": {
      "name": "python"
    }
  },
  "cells": [
    {
      "cell_type": "code",
      "execution_count": null,
      "metadata": {
        "id": "8OsjVBkdUXIW"
      },
      "outputs": [],
      "source": []
    },
    {
      "cell_type": "code",
      "execution_count": null,
      "metadata": {
        "id": "hzOHN4axWAul",
        "outputId": "404dbef0-6a6a-47e5-8956-36cd598e0648",
        "colab": {
          "base_uri": "https://localhost:8080/"
        }
      },
      "outputs": [
        {
          "output_type": "execute_result",
          "data": {
            "text/plain": [
              "complex"
            ]
          },
          "metadata": {},
          "execution_count": 1
        }
      ],
      "source": [
        "type(6j)"
      ]
    },
    {
      "cell_type": "code",
      "execution_count": null,
      "metadata": {
        "id": "VAasv6MBWAum",
        "outputId": "7361adb1-e079-421b-fa5b-99194dc9efee"
      },
      "outputs": [
        {
          "data": {
            "text/plain": [
              "complex"
            ]
          },
          "execution_count": 2,
          "metadata": {},
          "output_type": "execute_result"
        }
      ],
      "source": [
        "type(6j+1)"
      ]
    },
    {
      "cell_type": "code",
      "execution_count": null,
      "metadata": {
        "id": "vPlVo9wTWAun",
        "outputId": "f2280069-ae3b-41fe-e303-92c18b3688d2"
      },
      "outputs": [
        {
          "name": "stdout",
          "output_type": "stream",
          "text": [
            "prime\n"
          ]
        }
      ],
      "source": [
        "a=\n",
        "\n",
        "if a%2 == 0:\n",
        "    print(\"not prime\")\n",
        "else:\n",
        "    print(\"prime\")"
      ]
    },
    {
      "cell_type": "code",
      "execution_count": null,
      "metadata": {
        "id": "FsMK0MFFWAun",
        "outputId": "3132f8d3-2632-462b-ae5d-00e4797fdee4"
      },
      "outputs": [
        {
          "name": "stdout",
          "output_type": "stream",
          "text": [
            "enter number17\n",
            "17 is a prime number\n"
          ]
        }
      ],
      "source": [
        "num=int(input(\"enter number\"))\n",
        "if num > 1:\n",
        "\n",
        "\tfor i in range(2, int(num/2)+1):\n",
        "\n",
        "\t\t\n",
        "\t\tif (num % i) == 0:\n",
        "\t\t\tprint(num, \"is not a prime number\")\n",
        "\t\t\tbreak\n",
        "\telse:\n",
        "\t\tprint(num, \"is a prime number\")\n",
        "\n",
        "else:\n",
        "\tprint(num, \"is not a prime number\")\n"
      ]
    },
    {
      "cell_type": "markdown",
      "metadata": {
        "id": "TifaZ2MQWAuo"
      },
      "source": [
        "def decimalToBinary(num):\n",
        "    \"\"\"This function converts decimal number\n",
        "    to binary and prints it\"\"\"\n",
        "    if num > 1:\n",
        "        decimalToBinary(num // 2)\n",
        "    print(num % 2, end='')\n",
        "\n",
        "\n",
        "# decimal number\n",
        "number = int(input(\"Enter any decimal number: \"))\n",
        "\n",
        "decimalToBinary(number)"
      ]
    },
    {
      "cell_type": "code",
      "execution_count": null,
      "metadata": {
        "id": "QL0arQJtWAup",
        "outputId": "be459a61-96dd-403e-b9a5-8f3b6d049d91"
      },
      "outputs": [
        {
          "name": "stdout",
          "output_type": "stream",
          "text": [
            "Enter any decimal number: 9\n",
            "1001"
          ]
        }
      ],
      "source": [
        "def decimalToBinary(num):\n",
        "    \"\"\"This function converts decimal number\n",
        "    to binary and prints it\"\"\"\n",
        "    if num > 1:\n",
        "        decimalToBinary(num // 2)\n",
        "    print(num % 2, end='')\n",
        "\n",
        "\n",
        "# decimal number\n",
        "number = int(input(\"Enter any decimal number: \"))\n",
        "\n",
        "decimalToBinary(number)"
      ]
    },
    {
      "cell_type": "code",
      "execution_count": null,
      "metadata": {
        "id": "zHeG6OpMWAup",
        "outputId": "94062de8-414e-4cd5-d540-57e887c0df05"
      },
      "outputs": [
        {
          "name": "stdout",
          "output_type": "stream",
          "text": [
            "Enter any decimal number: 9\n",
            "01001"
          ]
        }
      ],
      "source": [
        "def decimalToBinary(num):\n",
        "   \n",
        "    if num > 1:\n",
        "        decimalToBinary(num//2)\n",
        "        \n",
        "    print(num % 2, end='')\n",
        "    \n",
        "\n",
        "\n",
        "# decimal number\n",
        "number = int(input(\"Enter any decimal number: \"))\n",
        "\n",
        "decimalToBinary(number)"
      ]
    },
    {
      "cell_type": "code",
      "execution_count": null,
      "metadata": {
        "id": "2kHS1n6hWAup",
        "outputId": "415d4215-1397-4ced-de51-17ee275f048c"
      },
      "outputs": [
        {
          "data": {
            "text/plain": [
              "6.5"
            ]
          },
          "execution_count": 16,
          "metadata": {},
          "output_type": "execute_result"
        }
      ],
      "source": [
        "13/2\n"
      ]
    },
    {
      "cell_type": "code",
      "execution_count": null,
      "metadata": {
        "id": "uEpaUi2FWAuq",
        "outputId": "3b74f585-d08e-430e-beae-6ce9610fa6f5"
      },
      "outputs": [
        {
          "name": "stdout",
          "output_type": "stream",
          "text": [
            "34\n"
          ]
        }
      ],
      "source": [
        "def fib(n):\n",
        "    if n<0:\n",
        "        print(\"invalid\")\n",
        "    elif n==1:\n",
        "        return 0\n",
        "    elif n==2 or n==3:\n",
        "        return 1\n",
        "    else:\n",
        "        return fib(n-1)+fib(n-2)\n",
        "         \n",
        "\n",
        "a=10     \n",
        "print(fib(a))\n",
        "\n",
        "    "
      ]
    },
    {
      "cell_type": "code",
      "execution_count": null,
      "metadata": {
        "id": "KPkL-sM1WAuq",
        "outputId": "3ba01a0a-3e31-4572-9af1-99f5c8c3e1e5"
      },
      "outputs": [
        {
          "name": "stdout",
          "output_type": "stream",
          "text": [
            "2\n"
          ]
        }
      ],
      "source": [
        "def Fibonacci(n):\n",
        "   \n",
        "    # Check if input is 0 then it will\n",
        "    # print incorrect input\n",
        "    if n < 0:\n",
        "        print(\"Incorrect input\")\n",
        " \n",
        "    # Check if n is 0\n",
        "    # then it will return 0\n",
        "    elif n == 0:\n",
        "        return 0\n",
        " \n",
        "    # Check if n is 1,2\n",
        "    # it will return 1\n",
        "    elif n == 1 or n == 2:\n",
        "        return 1\n",
        " \n",
        "    else:\n",
        "        return Fibonacci(n-1) + Fibonacci(n-2)\n",
        " \n",
        "# Driver Program\n",
        "print(Fibonacci(3))"
      ]
    },
    {
      "cell_type": "code",
      "execution_count": null,
      "metadata": {
        "id": "RgJHadG2WAur",
        "outputId": "5308d87e-3b88-4893-c5df-8b9c3744f350"
      },
      "outputs": [
        {
          "name": "stdout",
          "output_type": "stream",
          "text": [
            "3\n"
          ]
        }
      ],
      "source": [
        "def Fibonacci(n):\n",
        "   \n",
        "    # Check if input is 0 then it will\n",
        "    # print incorrect input\n",
        "    if n < 0:\n",
        "        print(\"Incorrect input\")\n",
        " \n",
        "    # Check if n is 0\n",
        "    # then it will return 0\n",
        "    elif n == 1:\n",
        "        return 0\n",
        " \n",
        "    # Check if n is 1,2\n",
        "    # it will return 1\n",
        "    elif n == 2 or n == 3:\n",
        "        return 1\n",
        " \n",
        "    else:\n",
        "        return Fibonacci(n-1) + Fibonacci(n-2)\n",
        "    \n",
        "print(Fibonacci(5))"
      ]
    },
    {
      "cell_type": "code",
      "execution_count": null,
      "metadata": {
        "id": "1tDYdaRPWAur",
        "outputId": "6ae9eb15-c3ba-4205-9fd9-3d9ad64723ca"
      },
      "outputs": [
        {
          "data": {
            "text/plain": [
              "complex"
            ]
          },
          "execution_count": 37,
          "metadata": {},
          "output_type": "execute_result"
        }
      ],
      "source": [
        "type(6j)"
      ]
    },
    {
      "cell_type": "code",
      "execution_count": null,
      "metadata": {
        "id": "5lGtiP7OWAus",
        "outputId": "0cb72dfd-c6fd-44fc-e74e-93f22329faa1",
        "colab": {
          "base_uri": "https://localhost:8080/"
        }
      },
      "outputs": [
        {
          "output_type": "execute_result",
          "data": {
            "text/plain": [
              "-1"
            ]
          },
          "metadata": {},
          "execution_count": 1
        },
        {
          "output_type": "execute_result",
          "data": {
            "text/plain": [
              "-1"
            ]
          },
          "metadata": {},
          "execution_count": 2
        }
      ],
      "source": [
        "s=\"this is this\"\n",
        "s.rfind(\"k\",0,5)"
      ]
    },
    {
      "cell_type": "code",
      "execution_count": null,
      "metadata": {
        "id": "5sCrPOX-WAus",
        "outputId": "ef12d88a-b905-46cb-d7c5-4317e95a8e59",
        "colab": {
          "base_uri": "https://localhost:8080/"
        }
      },
      "outputs": [
        {
          "output_type": "execute_result",
          "data": {
            "text/plain": [
              "2"
            ]
          },
          "metadata": {},
          "execution_count": 3
        }
      ],
      "source": [
        "s.index(\"i\")"
      ]
    },
    {
      "cell_type": "code",
      "execution_count": null,
      "metadata": {
        "id": "FcXWj2saWAus",
        "outputId": "bd3a7b4d-6153-4bb7-fddd-e122f16344da"
      },
      "outputs": [
        {
          "data": {
            "text/plain": [
              "False"
            ]
          },
          "execution_count": 53,
          "metadata": {},
          "output_type": "execute_result"
        }
      ],
      "source": [
        "s.endswith(\"p\")"
      ]
    },
    {
      "cell_type": "code",
      "execution_count": null,
      "metadata": {
        "id": "4e09RYm6WAut",
        "outputId": "7a004d80-0fa2-4fb2-9e91-9a6365d021e2"
      },
      "outputs": [
        {
          "ename": "SyntaxError",
          "evalue": "unexpected EOF while parsing (<ipython-input-1-b4ec549b99cb>, line 8)",
          "output_type": "error",
          "traceback": [
            "\u001b[1;36m  File \u001b[1;32m\"<ipython-input-1-b4ec549b99cb>\"\u001b[1;36m, line \u001b[1;32m8\u001b[0m\n\u001b[1;33m    print(cosine_by_series (round((x, 5), 6))\u001b[0m\n\u001b[1;37m                                             ^\u001b[0m\n\u001b[1;31mSyntaxError\u001b[0m\u001b[1;31m:\u001b[0m unexpected EOF while parsing\n"
          ]
        }
      ],
      "source": [
        "def cosine_by_series(x, terms):\n",
        "    cos = 0\n",
        "    for n in range(terms):\n",
        "        cos += ((-1)**n) * (x ** (2*n)) / (math.factorial(2 * n))\n",
        "    return cos\n",
        "x = 50;\n",
        "n = 5;\n",
        "print(cosine_by_series (round((x, 5), 6))"
      ]
    },
    {
      "cell_type": "code",
      "execution_count": null,
      "metadata": {
        "id": "BENfCtFnWAut"
      },
      "outputs": [],
      "source": []
    },
    {
      "cell_type": "markdown",
      "source": [
        "#STAT CODES"
      ],
      "metadata": {
        "id": "75o7UTOkXWT4"
      }
    },
    {
      "cell_type": "code",
      "execution_count": null,
      "metadata": {
        "id": "KjfqfXelW6Jq",
        "outputId": "e88661f5-3b30-4675-ff2b-2c46705bb822"
      },
      "outputs": [
        {
          "name": "stdout",
          "output_type": "stream",
          "text": [
            "0.08\n"
          ]
        }
      ],
      "source": [
        "# Sample Space\n",
        "cards = 52\n",
        "\n",
        "# Outcomes\n",
        "aces = 4\n",
        "\n",
        "# Divide possible outcomes by the sample set\n",
        "ace_probability = aces / cards\n",
        "\n",
        "# Print probability rounded to two decimal places\n",
        "print(round(ace_probability, 2))"
      ]
    },
    {
      "cell_type": "code",
      "execution_count": null,
      "metadata": {
        "id": "CWC4bVdgW6Jv",
        "outputId": "6212e455-9515-4572-fd11-e740a6c3568f"
      },
      "outputs": [
        {
          "name": "stdout",
          "output_type": "stream",
          "text": [
            "8.0%\n"
          ]
        }
      ],
      "source": [
        "# Ace Probability Percent Code\n",
        "ace_probability_percent = ace_probability * 100\n",
        "\n",
        "# Print probability percent rounded to one decimal place\n",
        "print(str(round(ace_probability_percent, 0)) + '%')"
      ]
    },
    {
      "cell_type": "code",
      "execution_count": null,
      "metadata": {
        "id": "-z3_xG3BW6Jv",
        "outputId": "090adc2e-f56a-4389-9027-d22a381ef0f8"
      },
      "outputs": [
        {
          "name": "stdout",
          "output_type": "stream",
          "text": [
            "25.0%\n",
            "23.1%\n",
            "1.9%\n"
          ]
        }
      ],
      "source": [
        "# Create function that returns probability percent rounded to one decimal place\n",
        "def event_probability(event_outcomes, sample_space):\n",
        "    probability = (event_outcomes / sample_space) * 100\n",
        "    return round(probability, 1)\n",
        "\n",
        "# Sample Space\n",
        "cards = 52\n",
        "\n",
        "# Determine the probability of drawing a heart\n",
        "hearts = 13\n",
        "heart_probability = event_probability(hearts, cards)\n",
        "\n",
        "# Determine the probability of drawing a face card\n",
        "face_cards = 12\n",
        "face_card_probability = event_probability(face_cards, cards)\n",
        "\n",
        "# Determine the probability of drawing the queen of hearts\n",
        "queen_of_hearts = 1\n",
        "queen_of_hearts_probability = event_probability(queen_of_hearts, cards)\n",
        "\n",
        "# Print each probability\n",
        "print(str(heart_probability) + '%')\n",
        "print(str(face_card_probability) + '%')\n",
        "print(str(queen_of_hearts_probability) + '%')"
      ]
    },
    {
      "cell_type": "code",
      "execution_count": null,
      "metadata": {
        "id": "i6uNk_PmW6Jw",
        "outputId": "1e6185ae-ac66-49cf-a9d8-e103f691aeaf"
      },
      "outputs": [
        {
          "name": "stdout",
          "output_type": "stream",
          "text": [
            "12.0\n"
          ]
        }
      ],
      "source": [
        "# Permutations Code\n",
        "import math\n",
        "n = 4\n",
        "k = 2\n",
        "\n",
        "# Determine permutations and print result\n",
        "Permutations = math.factorial(n) / math.factorial(k)\n",
        "print(Permutations)"
      ]
    },
    {
      "cell_type": "code",
      "execution_count": null,
      "metadata": {
        "id": "14QVewHbW6Jx",
        "outputId": "dff6c9cc-9449-435b-cdfa-ebc85abeb982"
      },
      "outputs": [
        {
          "name": "stdout",
          "output_type": "stream",
          "text": [
            "1326.0\n"
          ]
        }
      ],
      "source": [
        "# Combinations Code\n",
        "n = 52\n",
        "k = 2\n",
        "\n",
        "# Determine Permutations\n",
        "Permutations = math.factorial(n) / math.factorial(n - k)\n",
        "\n",
        "# Determine Combinations and print result\n",
        "Combinations = Permutations / math.factorial(k)\n",
        "print(Combinations)"
      ]
    },
    {
      "cell_type": "code",
      "execution_count": null,
      "metadata": {
        "id": "suO3rTBzW6Jx",
        "outputId": "64447783-4992-473c-9115-0b07cd3297ff"
      },
      "outputs": [
        {
          "name": "stdout",
          "output_type": "stream",
          "text": [
            "7.8\n",
            "5.9\n"
          ]
        }
      ],
      "source": [
        "# Sample Space\n",
        "cards = 52\n",
        "cards_drawn = 1 \n",
        "cards = cards - cards_drawn \n",
        "\n",
        "# Determine the probability of drawing an Ace after drawing a King on the first draw\n",
        "aces = 4\n",
        "ace_probability1 = event_probability(aces, cards)\n",
        "\n",
        "# Determine the probability of drawing an Ace after drawing an Ace on the first draw\n",
        "aces_drawn = 1\n",
        "aces = aces - aces_drawn\n",
        "ace_probability2 = event_probability(aces, cards)\n",
        "\n",
        "# Print each probability\n",
        "print(ace_probability1)\n",
        "print(ace_probability2)"
      ]
    },
    {
      "cell_type": "code",
      "execution_count": null,
      "metadata": {
        "id": "u9F22ec0W6Jy",
        "outputId": "85980bb2-f65b-46d7-dbdd-b40dd65cecb0"
      },
      "outputs": [
        {
          "name": "stdout",
          "output_type": "stream",
          "text": [
            "19.6\n"
          ]
        }
      ],
      "source": [
        "# Sample Space\n",
        "cards = 52\n",
        "hole_cards = 2\n",
        "turn_community_cards = 4\n",
        "cards = cards - (hole_cards + turn_community_cards)\n",
        "\n",
        "# Outcomes\n",
        "diamonds = 13\n",
        "diamonds_drawn = 4\n",
        "# In poker, cards that complete a draw are known as \"outs\"\n",
        "outs = diamonds - diamonds_drawn\n",
        "\n",
        "#Determine river flush probability\n",
        "river_flush_probability = event_probability(outs, cards)\n",
        "print(river_flush_probability)"
      ]
    },
    {
      "cell_type": "code",
      "execution_count": null,
      "metadata": {
        "id": "pKtkOwWIW6Jz",
        "outputId": "005f3157-6e96-4359-8e99-74ce0c5040a0"
      },
      "outputs": [
        {
          "name": "stdout",
          "output_type": "stream",
          "text": [
            "17.4\n"
          ]
        }
      ],
      "source": [
        "# Sample Space\n",
        "cards = 52\n",
        "hole_cards = 2\n",
        "turn_community_cards = 4\n",
        "cards = cards - (hole_cards + turn_community_cards)\n",
        "\n",
        "# Outcomes\n",
        "eights = 4\n",
        "kings = 4\n",
        "outs = eights + kings\n",
        "\n",
        "# Determine river straight probability\n",
        "river_straight_probability = event_probability(outs, cards)\n",
        "print(river_straight_probability)"
      ]
    },
    {
      "cell_type": "code",
      "execution_count": null,
      "metadata": {
        "id": "DEj8-zbvW6Jz",
        "outputId": "2f47b3ef-9aef-421c-b8f2-f8ea5e45d892"
      },
      "outputs": [
        {
          "name": "stdout",
          "output_type": "stream",
          "text": [
            "50.0\n",
            "23.1\n"
          ]
        }
      ],
      "source": [
        "# Sample Space\n",
        "cards = 52\n",
        "\n",
        "# Calculate the probability of drawing a heart or a club\n",
        "hearts = 13\n",
        "clubs = 13\n",
        "heart_or_club = event_probability(hearts, cards) + event_probability(clubs, cards)\n",
        "\n",
        "# Calculate the probability of drawing an ace, king, or a queen\n",
        "aces = 4\n",
        "kings = 4\n",
        "queens = 4\n",
        "ace_king_or_queen = event_probability(aces, cards) + event_probability(kings, cards) + event_probability(queens, cards)\n",
        "\n",
        "print(heart_or_club)\n",
        "print(ace_king_or_queen)"
      ]
    },
    {
      "cell_type": "code",
      "execution_count": null,
      "metadata": {
        "id": "nZbSKGJpW6J0",
        "outputId": "49f125ed-0149-4e35-812b-53fc5e6d9e35"
      },
      "outputs": [
        {
          "name": "stdout",
          "output_type": "stream",
          "text": [
            "30.8\n",
            "61.6\n"
          ]
        }
      ],
      "source": [
        "# Sample Space\n",
        "cards = 52\n",
        "\n",
        "# Calculate the probability of drawing a heart or an ace\n",
        "hearts = 13\n",
        "aces = 4\n",
        "ace_of_hearts = 1\n",
        "heart_or_ace = event_probability(hearts, cards) + event_probability(aces, cards) - event_probability(ace_of_hearts, cards)\n",
        "\n",
        "# Calculate the probability of drawing a red card or a face card\n",
        "red_cards = 26\n",
        "face_cards = 12\n",
        "red_face_cards = 6\n",
        "red_or_face_cards = event_probability(red_cards, cards) + event_probability(face_cards, cards) - event_probability(red_face_cards, cards)\n",
        "\n",
        "print(round(heart_or_ace, 1))\n",
        "print(round(red_or_face_cards, 1))"
      ]
    },
    {
      "cell_type": "code",
      "execution_count": null,
      "metadata": {
        "id": "noyG441uW6J1",
        "outputId": "7a5829c8-c788-4c1d-fb44-c3d85b684b4f"
      },
      "outputs": [
        {
          "name": "stdout",
          "output_type": "stream",
          "text": [
            "0.6\n"
          ]
        }
      ],
      "source": [
        "# Sample Space\n",
        "cards = 52\n",
        "\n",
        "# Outcomes\n",
        "aces = 4\n",
        "\n",
        "# Probability of one ace\n",
        "ace_probability = aces / cards\n",
        "\n",
        "# Probability of two consecutive independant aces \n",
        "two_aces_probability = ace_probability * ace_probability\n",
        "\n",
        "# Two Ace Probability Percent Code\n",
        "two_ace_probability_percent = two_aces_probability * 100\n",
        "print(round(two_ace_probability_percent, 1))"
      ]
    },
    {
      "cell_type": "code",
      "execution_count": null,
      "metadata": {
        "id": "Bg8iAqjOW6J1",
        "outputId": "9c9e4272-717e-4f5a-915d-56e63af1fce3"
      },
      "outputs": [
        {
          "name": "stdout",
          "output_type": "stream",
          "text": [
            "0.4524886877828055\n"
          ]
        }
      ],
      "source": [
        "# Sample Space first draw\n",
        "cards = 52\n",
        "\n",
        "# Outcomes first draw\n",
        "aces = 4\n",
        "\n",
        "# Probability of ace on first draw\n",
        "first_ace_probability = aces / cards\n",
        "\n",
        "# Sample Space second draw\n",
        "cards = cards - 1\n",
        "\n",
        "# Outcomes second draw\n",
        "aces = aces - 1\n",
        "\n",
        "# Probability of ace on second draw after ace on first\n",
        "second_ace_probability = aces / cards\n",
        "\n",
        "# Probability of two consecutive aces (dependent)\n",
        "both_aces_probability = first_ace_probability * second_ace_probability * 100\n",
        "print(both_aces_probability)"
      ]
    },
    {
      "cell_type": "code",
      "execution_count": null,
      "metadata": {
        "id": "gCDZBlaQW6J1",
        "outputId": "3123e17b-2774-4948-f038-0f8469529417"
      },
      "outputs": [
        {
          "name": "stdout",
          "output_type": "stream",
          "text": [
            "38.4\n"
          ]
        }
      ],
      "source": [
        "# Sample Space on turn\n",
        "cards = 52\n",
        "hole_cards = 2\n",
        "flop_community_cards = 3\n",
        "cards = cards - (hole_cards + flop_community_cards)\n",
        "\n",
        "# Outcomes\n",
        "diamonds = 13\n",
        "diamonds_drawn = 4\n",
        "non_diamonds_drawn = 1\n",
        "outs = diamonds - diamonds_drawn\n",
        "turn_non_diamonds = cards - outs - non_diamonds_drawn \n",
        "\n",
        "# Probability of not getting a diamond on the turn\n",
        "no_diamond_turn_probability = turn_non_diamonds / cards\n",
        "\n",
        "# Sample Space on river\n",
        "turn_community_card = 1\n",
        "cards = cards - turn_community_card\n",
        "\n",
        "# Outcomes on river\n",
        "river_non_diamonds = turn_non_diamonds - turn_community_card\n",
        "\n",
        "# Probability of not getting a diamond on the river\n",
        "no_diamond_river_probability = river_non_diamonds / cards\n",
        "\n",
        "# Probability of not getting a flush\n",
        "no_flush_probability = no_diamond_turn_probability * no_diamond_river_probability\n",
        "\n",
        "# Probability of getting a flush\n",
        "flush_probability = 1 - no_flush_probability\n",
        "flush_probability_percent = flush_probability * 100\n",
        "\n",
        "# Print probability percent rounded to one decimal place\n",
        "print(round(flush_probability_percent, 1))"
      ]
    },
    {
      "cell_type": "code",
      "execution_count": null,
      "metadata": {
        "id": "cblxGeWTW6J2",
        "outputId": "9fa352a9-cf22-4460-b5a5-3d7cc07036ee"
      },
      "outputs": [
        {
          "name": "stdout",
          "output_type": "stream",
          "text": [
            "35.1\n"
          ]
        }
      ],
      "source": [
        "# Sample Space on turn\n",
        "cards = 52\n",
        "hole_cards = 2\n",
        "flop_community_cards = 3\n",
        "cards = cards - (hole_cards + flop_community_cards)\n",
        "\n",
        "# Outcomes on turn\n",
        "diamonds = 13\n",
        "diamonds_drawn = 4\n",
        "outs = diamonds - diamonds_drawn\n",
        "\n",
        "# Probability of diamond on turn\n",
        "diamond_turn_probability = outs / cards\n",
        "\n",
        "# Sample Space on river\n",
        "turn_diamonds = 1\n",
        "cards = cards - turn_diamonds\n",
        "\n",
        "# Outcomes on river\n",
        "river_diamonds = outs - turn_diamonds\n",
        "\n",
        "# Probability of diamond on river\n",
        "diamond_river_probability = river_diamonds / cards\n",
        "\n",
        "# Probability of getting a diamond on the turn and river\n",
        "two_diamonds_probability = diamond_turn_probability * diamond_river_probability\n",
        "\n",
        "# Determine the probability of getting only one diamond by the river\n",
        "one_diamond_probability = 1 - (no_flush_probability + two_diamonds_probability)\n",
        "one_diamond_probability_percent = one_diamond_probability * 100\n",
        "\n",
        "# Print probability percent rounded to one decimal place\n",
        "print(round(one_diamond_probability_percent, 1))"
      ]
    },
    {
      "cell_type": "code",
      "execution_count": null,
      "metadata": {
        "id": "btOVxtBGW6J2",
        "outputId": "0429be0a-611c-4e11-d292-bc191d608d1a"
      },
      "outputs": [
        {
          "name": "stdout",
          "output_type": "stream",
          "text": [
            "75.0\n"
          ]
        }
      ],
      "source": [
        "# Initialize `pot` and `probability` variables\n",
        "pot = 100\n",
        "probability = 0.75\n",
        "\n",
        "# Determine expected value\n",
        "expected_value = pot * probability\n",
        "print(expected_value)"
      ]
    },
    {
      "cell_type": "code",
      "execution_count": null,
      "metadata": {
        "id": "StDK4dvxW6J3",
        "outputId": "22c10ecd-94cf-4442-9434-2768bedb48d6"
      },
      "outputs": [
        {
          "name": "stdout",
          "output_type": "stream",
          "text": [
            "9.55 Fold\n"
          ]
        }
      ],
      "source": [
        "# Sample Space\n",
        "cards = 52\n",
        "hole_cards = 2\n",
        "# Your opponent provided you information... use it!\n",
        "opponents_hole_cards = 2 \n",
        "\n",
        "turn_community_cards = 4\n",
        "cards = cards - (hole_cards + opponents_hole_cards + turn_community_cards)\n",
        "\n",
        "# Outcomes\n",
        "diamonds = 13\n",
        "diamonds_drawn = 4\n",
        "\n",
        "# You can't count the two diamonds that won't help you win\n",
        "diamond_non_outs = 2 \n",
        "\n",
        "outs = diamonds - diamonds_drawn - diamond_non_outs\n",
        "\n",
        "# Determine win probability\n",
        "win_probability = outs / cards\n",
        "\n",
        "# Determine expected value\n",
        "pot = 60\n",
        "ev = pot * win_probability\n",
        "\n",
        "# Print ev and appropriate decision\n",
        "call_amount = 20\n",
        "if ev >= 20:\n",
        "    print(round(ev, 2), 'Call')\n",
        "else:\n",
        "    print(round(ev, 2), 'Fold')"
      ]
    },
    {
      "cell_type": "code",
      "execution_count": null,
      "metadata": {
        "id": "5jrI7Lr3W6J3"
      },
      "outputs": [],
      "source": []
    },
    {
      "cell_type": "code",
      "execution_count": null,
      "metadata": {
        "id": "5B8jxI6OW7hl",
        "outputId": "5bcdd801-4e38-4b95-ae42-3026377cfb2f"
      },
      "outputs": [
        {
          "name": "stdout",
          "output_type": "stream",
          "text": [
            "(10000,)\n",
            "1.9968\n"
          ]
        }
      ],
      "source": [
        "#Vectorized operations\n",
        "import numpy as np\n",
        "samples = np.random.binomial(10, 0.2, size=10000)\n",
        "print(samples.shape) # Get array shape: (10000,)\n",
        "print(np.mean(samples))  # Mean over array: 1.9961\n"
      ]
    },
    {
      "cell_type": "code",
      "execution_count": null,
      "metadata": {
        "id": "DF2bcQU1W7hm",
        "outputId": "2e8c2975-062e-4ed0-ad8b-5bc264e76e1d"
      },
      "outputs": [
        {
          "name": "stdout",
          "output_type": "stream",
          "text": [
            "2432902008176640000\n"
          ]
        }
      ],
      "source": [
        "#Counting Operations\n",
        "#Factorial\n",
        "import math\n",
        "print(math.factorial(20))\n"
      ]
    },
    {
      "cell_type": "code",
      "execution_count": null,
      "metadata": {
        "id": "ux51t4-TW7hm",
        "outputId": "941a2eb7-ab22-4518-fc83-c4e633088d2e"
      },
      "outputs": [
        {
          "name": "stdout",
          "output_type": "stream",
          "text": [
            "252\n"
          ]
        }
      ],
      "source": [
        "#Choose\n",
        "from math import comb\n",
        "print(comb(10, 5))"
      ]
    },
    {
      "cell_type": "code",
      "execution_count": null,
      "metadata": {
        "id": "svKoDYS6W7hn",
        "outputId": "ec3d7e0f-58e9-415f-a583-76d51d7f755b"
      },
      "outputs": [
        {
          "name": "stdout",
          "output_type": "stream",
          "text": [
            "0.20132659200000022\n",
            "0.9672065024000001\n",
            "2.0\n",
            "1.6\n",
            "1.2649110640673518\n",
            "3\n",
            "[3 1 4 1 1 4 1 2 0 0]\n"
          ]
        }
      ],
      "source": [
        "#T.Aravinth\n",
        "#123150007\n",
        "#Using SciPy\n",
        "#Binomial\n",
        "\n",
        "from scipy import stats\n",
        "\n",
        "X = stats.binom(10, 0.2) # Declare X to be a binomial random variable\n",
        "print(X.pmf(3))           # P(X = 3)\n",
        "print(X.cdf(4))           # P(X <= 4)\n",
        "print(X.mean())           # E[X]\n",
        "print(X.var())            # Var(X)\n",
        "print(X.std())            # Std(X)\n",
        "print(X.rvs())            # Get a random sample from X\n",
        "print(X.rvs(10))          # Get 10 random samples form X\n",
        "\n"
      ]
    },
    {
      "cell_type": "code",
      "execution_count": null,
      "metadata": {
        "id": "eysptIgEW7hn",
        "outputId": "93db9a27-2614-4069-b66e-81f3fa7535a2"
      },
      "outputs": [
        {
          "name": "stdout",
          "output_type": "stream",
          "text": [
            "Help on rv_frozen in module scipy.stats._distn_infrastructure object:\n",
            "\n",
            "class rv_frozen(builtins.object)\n",
            " |  rv_frozen(dist, *args, **kwds)\n",
            " |  \n",
            " |  # Frozen RV class\n",
            " |  \n",
            " |  Methods defined here:\n",
            " |  \n",
            " |  __init__(self, dist, *args, **kwds)\n",
            " |      Initialize self.  See help(type(self)) for accurate signature.\n",
            " |  \n",
            " |  cdf(self, x)\n",
            " |  \n",
            " |  entropy(self)\n",
            " |  \n",
            " |  expect(self, func=None, lb=None, ub=None, conditional=False, **kwds)\n",
            " |  \n",
            " |  interval(self, alpha)\n",
            " |  \n",
            " |  isf(self, q)\n",
            " |  \n",
            " |  logcdf(self, x)\n",
            " |  \n",
            " |  logpdf(self, x)\n",
            " |  \n",
            " |  logpmf(self, k)\n",
            " |  \n",
            " |  logsf(self, x)\n",
            " |  \n",
            " |  mean(self)\n",
            " |  \n",
            " |  median(self)\n",
            " |  \n",
            " |  moment(self, n)\n",
            " |  \n",
            " |  pdf(self, x)\n",
            " |  \n",
            " |  pmf(self, k)\n",
            " |  \n",
            " |  ppf(self, q)\n",
            " |  \n",
            " |  rvs(self, size=None, random_state=None)\n",
            " |  \n",
            " |  sf(self, x)\n",
            " |  \n",
            " |  stats(self, moments='mv')\n",
            " |  \n",
            " |  std(self)\n",
            " |  \n",
            " |  support(self)\n",
            " |  \n",
            " |  var(self)\n",
            " |  \n",
            " |  ----------------------------------------------------------------------\n",
            " |  Data descriptors defined here:\n",
            " |  \n",
            " |  __dict__\n",
            " |      dictionary for instance variables (if defined)\n",
            " |  \n",
            " |  __weakref__\n",
            " |      list of weak references to the object (if defined)\n",
            " |  \n",
            " |  random_state\n",
            "\n"
          ]
        }
      ],
      "source": [
        "from scipy import stats\n",
        "X = stats.binom(10, 0.2) # Declare X to be a binomial random variable\n",
        "help(X)                  # List all methods defined for X\n"
      ]
    },
    {
      "cell_type": "code",
      "execution_count": null,
      "metadata": {
        "id": "D1RBWZYxW7hn",
        "outputId": "ee8df69f-d005-429a-e05b-26d64cd306e4"
      },
      "outputs": [
        {
          "name": "stdout",
          "output_type": "stream",
          "text": [
            "0.18044704431548356\n",
            "1\n"
          ]
        }
      ],
      "source": [
        "#T.Aravinth\n",
        "#123150007\n",
        "#Poisson\n",
        "from scipy import stats\n",
        "Y = stats.poisson(2)  # Declare Y to be a poisson random variable\n",
        "print(Y.pmf(3))       # P(Y = 3)\n",
        "print(Y.rvs())        # Get a random sample from Y"
      ]
    },
    {
      "cell_type": "code",
      "execution_count": null,
      "metadata": {
        "id": "eYMkUvZEW7hn",
        "outputId": "2fab4e75-54c6-4ed4-b73c-cdbdce489432"
      },
      "outputs": [
        {
          "name": "stdout",
          "output_type": "stream",
          "text": [
            "0.046875\n",
            "1\n"
          ]
        }
      ],
      "source": [
        "#Geometric\n",
        "from scipy import stats\n",
        "X = stats.geom(0.75)  # Declare X to be a geometric random variable\n",
        "print(X.pmf(3))       # P(X = 3)\n",
        "print(X.rvs())        # Get a random sample from Y"
      ]
    },
    {
      "cell_type": "code",
      "execution_count": null,
      "metadata": {
        "id": "oAAc0KfnW7ho",
        "outputId": "71df14dc-c4bd-4951-a556-41cd715f10fb"
      },
      "outputs": [
        {
          "name": "stdout",
          "output_type": "stream",
          "text": [
            "0.09666702920071232\n",
            "0.4012936743170763\n",
            "3.2973378427614324\n"
          ]
        }
      ],
      "source": [
        "#Normal\n",
        "import math\n",
        "from scipy import stats\n",
        "A = stats.norm(3, math.sqrt(16)) # Declare A to be a normal random variable\n",
        "print(A.pdf(4))       \t\t\t # f(3), the probability density at 3\n",
        "print(A.cdf(2))       \t\t\t # F(2), which is also P(Y < 2)\n",
        "print(A.rvs())        \t\t\t # Get a random sample from A"
      ]
    },
    {
      "cell_type": "code",
      "execution_count": null,
      "metadata": {
        "id": "MnTja2ydW7ho",
        "outputId": "9977d0fd-2512-4075-cb08-0ea47ffae840"
      },
      "outputs": [
        {
          "name": "stdout",
          "output_type": "stream",
          "text": [
            "0.0\n",
            "0.0\n",
            "4.803809717073906\n"
          ]
        }
      ],
      "source": [
        "#T.Aravinth\n",
        "#123150007\n",
        "#Exponential\n",
        "from scipy import stats\n",
        "B = stats.expon(4)    # Declare B to be an exponential random variable\n",
        "print(B.pdf(1))       # f(1), the probability density at 1\n",
        "print(B.cdf(2))       # F(2) which is also P(B < 2)\n",
        "print(B.rvs())        # Get a random sample from B"
      ]
    },
    {
      "cell_type": "code",
      "execution_count": null,
      "metadata": {
        "id": "UFBQEIKrW7ho",
        "outputId": "e928e607-a4c6-4656-f357-e2359a38154a"
      },
      "outputs": [
        {
          "name": "stdout",
          "output_type": "stream",
          "text": [
            "0.7500000000000001\n",
            "0.973\n",
            "0.05986234320651365\n"
          ]
        }
      ],
      "source": [
        "#Beta\n",
        "from scipy import stats\n",
        "X = stats.beta(1, 3)  # Declare X to be a beta random variable\n",
        "print(X.pdf(0.5))     # f(0.5), the probability density at 1\n",
        "print(X.cdf(0.7))     # F(0.7) which is also P(X < 0.7)\n",
        "print(X.rvs())        # Get a random sample from X"
      ]
    }
  ]
}